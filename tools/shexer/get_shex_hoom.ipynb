{
 "cells": [
  {
   "cell_type": "code",
   "id": "initial_id",
   "metadata": {
    "collapsed": true,
    "ExecuteTime": {
     "end_time": "2025-04-29T12:34:58.064028Z",
     "start_time": "2025-04-29T12:34:57.938056Z"
    }
   },
   "source": [
    "import sys\n",
    "!pip install shexer"
   ],
   "outputs": [
    {
     "name": "stdout",
     "output_type": "stream",
     "text": [
      "zsh:1: command not found: pip\r\n"
     ]
    }
   ],
   "execution_count": 1
  },
  {
   "metadata": {
    "ExecuteTime": {
     "end_time": "2025-04-29T12:56:29.417182Z",
     "start_time": "2025-04-29T12:54:31.544960Z"
    }
   },
   "cell_type": "code",
   "source": [
    "from shexer.shaper import Shaper\n",
    "from shexer.consts import NT, SHEXC, TURTLE\n",
    "import gzip\n",
    "from rdflib import Graph\n",
    "import os\n",
    "\n",
    "hoomGraph = Graph()\n",
    "with gzip.open(\"../../ontologies/hoom_orphanet_2.3.ttl.gz\", 'rt', encoding='utf-8') as f:\n",
    "    hoomGraph.parse(file=f, format=\"turtle\")\n",
    "\n",
    "print(f\"Graph has {len(hoomGraph)} triples.\")\n",
    "\n",
    "namespaces_dict = {\"http://purl.org/dc/terms/\": \"dcterms\",\n",
    "                   \"http://www.openmicroscopy.org/rdf/2016-06/ome_core/\": \"ome\",\n",
    "                   \"http://www.openmicroscopy.org/Schemas/OME/2016-06#\": \"ome-xml\",\n",
    "                   \"http://www.openmicroscopy.org/TBD/omero/\": \"omero\",\n",
    "                   \"http://www.w3.org/2001/XMLSchema#\": \"xsd\"\n",
    "                   }\n",
    "\n",
    "shex_target_file = \"hoom_example.shex\"\n",
    "\n",
    "#input_ttl_file = \"all-projects_curated.ttl\"\n",
    "\n",
    "\n"
   ],
   "id": "f7ecea60f5199016",
   "outputs": [
    {
     "name": "stdout",
     "output_type": "stream",
     "text": [
      "Graph has 3524173 triples.\n"
     ]
    },
    {
     "ename": "NameError",
     "evalue": "name 'TURTLE_ITER' is not defined",
     "output_type": "error",
     "traceback": [
      "\u001B[0;31m---------------------------------------------------------------------------\u001B[0m",
      "\u001B[0;31mNameError\u001B[0m                                 Traceback (most recent call last)",
      "Cell \u001B[0;32mIn[6], line 26\u001B[0m\n\u001B[1;32m     20\u001B[0m shex_target_file \u001B[38;5;241m=\u001B[39m \u001B[38;5;124m\"\u001B[39m\u001B[38;5;124mhoom_example.shex\u001B[39m\u001B[38;5;124m\"\u001B[39m\n\u001B[1;32m     22\u001B[0m \u001B[38;5;66;03m#input_ttl_file = \"all-projects_curated.ttl\"\u001B[39;00m\n\u001B[1;32m     24\u001B[0m shaper \u001B[38;5;241m=\u001B[39m Shaper(all_classes_mode\u001B[38;5;241m=\u001B[39m\u001B[38;5;28;01mTrue\u001B[39;00m,\n\u001B[1;32m     25\u001B[0m                 rdflib_graph\u001B[38;5;241m=\u001B[39mhoomGraph,\n\u001B[0;32m---> 26\u001B[0m                 input_format\u001B[38;5;241m=\u001B[39m\u001B[43mTURTLE_ITER\u001B[49m,\n\u001B[1;32m     27\u001B[0m                 namespaces_dict\u001B[38;5;241m=\u001B[39mnamespaces_dict)\n\u001B[1;32m     29\u001B[0m shaper\u001B[38;5;241m.\u001B[39mshex_graph(output_file\u001B[38;5;241m=\u001B[39mshex_target_file)\n\u001B[1;32m     32\u001B[0m \u001B[38;5;28mprint\u001B[39m(\u001B[38;5;124m\"\u001B[39m\u001B[38;5;124mDone!\u001B[39m\u001B[38;5;124m\"\u001B[39m)\n",
      "\u001B[0;31mNameError\u001B[0m: name 'TURTLE_ITER' is not defined"
     ]
    }
   ],
   "execution_count": 6
  },
  {
   "metadata": {
    "ExecuteTime": {
     "end_time": "2025-04-29T12:57:28.405598Z",
     "start_time": "2025-04-29T12:57:03.735294Z"
    }
   },
   "cell_type": "code",
   "source": [
    "shaper = Shaper(all_classes_mode=True,\n",
    "                rdflib_graph=hoomGraph,\n",
    "                input_format=TURTLE,\n",
    "                namespaces_dict=namespaces_dict)\n",
    "\n",
    "shaper.shex_graph(output_file=shex_target_file)\n",
    "\n",
    "\n",
    "print(\"Done!\")"
   ],
   "id": "a5d398cd80c7b3ef",
   "outputs": [
    {
     "name": "stdout",
     "output_type": "stream",
     "text": [
      "Done!\n"
     ]
    }
   ],
   "execution_count": 7
  }
 ],
 "metadata": {
  "kernelspec": {
   "display_name": "Python 3",
   "language": "python",
   "name": "python3"
  },
  "language_info": {
   "codemirror_mode": {
    "name": "ipython",
    "version": 2
   },
   "file_extension": ".py",
   "mimetype": "text/x-python",
   "name": "python",
   "nbconvert_exporter": "python",
   "pygments_lexer": "ipython2",
   "version": "2.7.6"
  }
 },
 "nbformat": 4,
 "nbformat_minor": 5
}
